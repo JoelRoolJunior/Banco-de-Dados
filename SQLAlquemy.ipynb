{
 "cells": [
  {
   "cell_type": "code",
   "execution_count": 4,
   "metadata": {},
   "outputs": [],
   "source": [
    "import os\n",
    "from pathlib import Path\n",
    "\n",
    "from dotenv import load_dotenv, find_dotenv\n",
    "from sqlalchemy import create_engine\n",
    "from sqlalchemy.orm import sessionmaker\n",
    "from sqlalchemy_utils import database_exists, create_database\n",
    "import pandas as pd"
   ]
  },
  {
   "cell_type": "markdown",
   "metadata": {},
   "source": [
    "## Functions"
   ]
  },
  {
   "cell_type": "code",
   "execution_count": 5,
   "metadata": {},
   "outputs": [],
   "source": [
    "def get_credentials():\n",
    "    path = Path.cwd() / 'config' / '.ENV'\n",
    "    load_dotenv(path)\n",
    "    user = os.getenv('POSTGRESUSER')\n",
    "    password = os.getenv('PASSWORD')\n",
    "    host = os.getenv('HOST')\n",
    "    port = os.getenv('PORT')\n",
    "    dbname = os.getenv('DBNAME')\n",
    "    credentials = {\n",
    "        'user':user,\n",
    "        'password':password,\n",
    "        'host':host,\n",
    "        'port':port,\n",
    "        'dbname':dbname,\n",
    "    }\n",
    "    return credentials\n",
    "\n",
    "\n",
    "def get_engine(user, password, host, port, dbname):\n",
    "    url = f'postgresql+psycopg2://{user}:{password}@{host}:{port}/{dbname}'\n",
    "    if not database_exists(url):\n",
    "        create_database(url)\n",
    "    engine = create_engine(url, pool_size=50, echo=False)\n",
    "    return engine\n",
    "\n",
    "def get_postgres_engine():\n",
    "    keys = get_credentials()\n",
    "    engine = get_engine(keys['user'],keys['password'], keys['host'],keys['port'],keys['dbname'])\n",
    "    return engine"
   ]
  },
  {
   "cell_type": "markdown",
   "metadata": {},
   "source": [
    "# **CRUD**"
   ]
  },
  {
   "cell_type": "code",
   "execution_count": 4,
   "metadata": {},
   "outputs": [],
   "source": [
    "from sqlalchemy import Column, Integer, MetaData, String, Table, create_engine\n",
    "from sqlalchemy.orm import sessionmaker, declarative_base\n",
    "\n",
    "from sqlalchemy.orm import sessionmaker"
   ]
  },
  {
   "cell_type": "code",
   "execution_count": 6,
   "metadata": {},
   "outputs": [],
   "source": [
    "# Declaração de uma tabela\n",
    "engine = get_postgres_engine()\n",
    "Base = declarative_base()\n",
    "\n",
    "class User(Base):\n",
    "    __tablename__ = 'Users'\n",
    "\n",
    "    id = Column(Integer, primary_key=True)\n",
    "    name = Column(String)\n",
    "    age = Column(Integer)\n",
    "\n",
    "Base.metadata.create_all(engine)"
   ]
  },
  {
   "cell_type": "markdown",
   "metadata": {},
   "source": [
    "## Create"
   ]
  },
  {
   "cell_type": "code",
   "execution_count": 7,
   "metadata": {},
   "outputs": [],
   "source": [
    "Session = sessionmaker(bind=engine)\n",
    "session = Session()"
   ]
  },
  {
   "cell_type": "code",
   "execution_count": 8,
   "metadata": {},
   "outputs": [],
   "source": [
    "user = User(name='Joel', age=20)\n",
    "user_2 = User(name='Rool', age=30)\n",
    "user_3 = User(name='Melo', age=40)\n",
    "user_4 = User(name='Junior', age=50)\n",
    "\n",
    "session.add(user)\n",
    "session.add_all([user_2, user_3, user_4])\n",
    "session.commit()"
   ]
  },
  {
   "cell_type": "markdown",
   "metadata": {},
   "source": [
    "## Read"
   ]
  },
  {
   "cell_type": "code",
   "execution_count": 9,
   "metadata": {},
   "outputs": [
    {
     "name": "stdout",
     "output_type": "stream",
     "text": [
      "2\n",
      "Rool\n",
      "30\n"
     ]
    }
   ],
   "source": [
    "from sqlalchemy.orm import sessionmaker\n",
    "\n",
    "Session = sessionmaker(engine)\n",
    "session = Session()\n",
    "\n",
    "users = session.query(User).all()\n",
    "user = users[0]\n",
    "\n",
    "print(user.id)\n",
    "print(user.name)\n",
    "print(user.age)"
   ]
  },
  {
   "cell_type": "code",
   "execution_count": 10,
   "metadata": {},
   "outputs": [
    {
     "name": "stdout",
     "output_type": "stream",
     "text": [
      "User id: 2, User name: Rool, User age: 30\n",
      "User id: 3, User name: Melo, User age: 40\n",
      "User id: 4, User name: Junior, User age: 50\n",
      "User id: 5, User name: Joel, User age: 20\n",
      "User id: 6, User name: Rool, User age: 30\n",
      "User id: 7, User name: Melo, User age: 40\n",
      "User id: 8, User name: Junior, User age: 50\n",
      "User id: 9, User name: Joel, User age: 20\n",
      "User id: 10, User name: Rool, User age: 30\n",
      "User id: 11, User name: Melo, User age: 40\n",
      "User id: 12, User name: Junior, User age: 50\n"
     ]
    }
   ],
   "source": [
    "users = session.query(User).all()\n",
    "for user in users:\n",
    "    print(f'User id: {user.id}, User name: {user.name}, User age: {user.age}')"
   ]
  },
  {
   "cell_type": "code",
   "execution_count": 11,
   "metadata": {},
   "outputs": [
    {
     "name": "stdout",
     "output_type": "stream",
     "text": [
      "2\n",
      "Rool\n",
      "30\n"
     ]
    }
   ],
   "source": [
    "user = session.query(User).filter_by(id=2).one_or_none()\n",
    "print(user.id)\n",
    "print(user.name)\n",
    "print(user.age)"
   ]
  },
  {
   "cell_type": "markdown",
   "metadata": {},
   "source": [
    "## Update"
   ]
  },
  {
   "cell_type": "code",
   "execution_count": 13,
   "metadata": {},
   "outputs": [
    {
     "name": "stdout",
     "output_type": "stream",
     "text": [
      "Rool\n",
      "Outro nome\n"
     ]
    }
   ],
   "source": [
    "from sqlalchemy.orm import sessionmaker\n",
    "\n",
    "Session = sessionmaker(engine)\n",
    "session = Session()\n",
    "\n",
    "user = session.query(User).filter_by(id=2).one_or_none()\n",
    "\n",
    "print(user.name)\n",
    "user.name = \"Outro nome\"\n",
    "print(user.name)\n",
    "\n",
    "session.commit()"
   ]
  },
  {
   "cell_type": "markdown",
   "metadata": {},
   "source": [
    "## Delete"
   ]
  },
  {
   "cell_type": "code",
   "execution_count": null,
   "metadata": {},
   "outputs": [],
   "source": [
    "from sqlalchemy.orm import sessionmaker\n",
    "\n",
    "Session = sessionmaker(engine)\n",
    "session = Session()\n",
    "\n",
    "user = session.query(User).filter_by(id=2).one_or_none()\n",
    "session.delete(user)\n",
    "session.commit()"
   ]
  },
  {
   "cell_type": "markdown",
   "metadata": {},
   "source": [
    "# **Ordenando os Dados**"
   ]
  },
  {
   "cell_type": "code",
   "execution_count": 22,
   "metadata": {},
   "outputs": [],
   "source": [
    "import random\n",
    "from sqlalchemy.orm import sessionmaker\n",
    "\n",
    "engine = get_postgres_engine()\n",
    "Session = sessionmaker(engine)\n",
    "session = Session()"
   ]
  },
  {
   "cell_type": "markdown",
   "metadata": {},
   "source": [
    "### Resetando os dados da tabela"
   ]
  },
  {
   "cell_type": "code",
   "execution_count": 36,
   "metadata": {},
   "outputs": [],
   "source": [
    "session.query(User).delete()\n",
    "session.commit()"
   ]
  },
  {
   "cell_type": "markdown",
   "metadata": {},
   "source": [
    "### Colocando dados falsos no banco  de dados"
   ]
  },
  {
   "cell_type": "code",
   "execution_count": 37,
   "metadata": {},
   "outputs": [],
   "source": [
    "names = ['Arthur','Rool','Ramos','Melo','Anna','Victoria']\n",
    "ages = [25,26,26,67,69,42,36,58,91,46,72]\n",
    "\n",
    "\n",
    "for x in range(20):\n",
    "    user = User(name=random.choice(names), age=random.choice(ages))\n",
    "    session.add(user)\n",
    "session.commit()"
   ]
  },
  {
   "cell_type": "markdown",
   "metadata": {},
   "source": [
    "### Por idade do maior para o menor (decrecente)"
   ]
  },
  {
   "cell_type": "code",
   "execution_count": 48,
   "metadata": {},
   "outputs": [
    {
     "name": "stdout",
     "output_type": "stream",
     "text": [
      "131 Anna 91\n",
      "118 Melo 91\n",
      "124 Rool 72\n",
      "132 Rool 72\n",
      "130 Melo 69\n",
      "126 Rool 69\n",
      "113 Melo 58\n",
      "120 Arthur 46\n",
      "127 Arthur 46\n",
      "115 Ramos 42\n",
      "119 Victoria 42\n",
      "116 Anna 36\n",
      "121 Rool 36\n",
      "114 Victoria 26\n",
      "122 Ramos 26\n",
      "123 Ramos 26\n",
      "125 Arthur 26\n",
      "129 Anna 26\n",
      "128 Ramos 25\n",
      "117 Victoria 25\n"
     ]
    }
   ],
   "source": [
    "users = session.query(User).order_by(User.age.desc()).all()\n",
    "\n",
    "for user in users:\n",
    "    print(user.id, user.name, user.age)"
   ]
  },
  {
   "cell_type": "markdown",
   "metadata": {},
   "source": [
    "### Por nome do menor para o maior (crecente)"
   ]
  },
  {
   "cell_type": "code",
   "execution_count": 50,
   "metadata": {},
   "outputs": [
    {
     "name": "stdout",
     "output_type": "stream",
     "text": [
      "116 Anna 36\n",
      "129 Anna 26\n",
      "131 Anna 91\n",
      "127 Arthur 46\n",
      "125 Arthur 26\n",
      "120 Arthur 46\n",
      "130 Melo 69\n",
      "113 Melo 58\n",
      "118 Melo 91\n",
      "123 Ramos 26\n",
      "115 Ramos 42\n",
      "122 Ramos 26\n",
      "128 Ramos 25\n",
      "121 Rool 36\n",
      "132 Rool 72\n",
      "124 Rool 72\n",
      "126 Rool 69\n",
      "119 Victoria 42\n",
      "117 Victoria 25\n",
      "114 Victoria 26\n"
     ]
    }
   ],
   "source": [
    "users = session.query(User).order_by(User.name.asc()).all()\n",
    "\n",
    "for user in users:\n",
    "    print(user.id, user.name, user.age)"
   ]
  },
  {
   "cell_type": "markdown",
   "metadata": {},
   "source": [
    "# **Filtrando os Dados**"
   ]
  },
  {
   "cell_type": "code",
   "execution_count": 6,
   "metadata": {},
   "outputs": [],
   "source": [
    "from sqlalchemy.orm import sessionmaker\n",
    "\n",
    "engine = get_postgres_engine()\n",
    "Session = sessionmaker(engine)\n",
    "session = Session()"
   ]
  },
  {
   "cell_type": "markdown",
   "metadata": {},
   "source": []
  }
 ],
 "metadata": {
  "kernelspec": {
   "display_name": ".venv",
   "language": "python",
   "name": "python3"
  },
  "language_info": {
   "codemirror_mode": {
    "name": "ipython",
    "version": 3
   },
   "file_extension": ".py",
   "mimetype": "text/x-python",
   "name": "python",
   "nbconvert_exporter": "python",
   "pygments_lexer": "ipython3",
   "version": "3.11.9"
  }
 },
 "nbformat": 4,
 "nbformat_minor": 2
}
