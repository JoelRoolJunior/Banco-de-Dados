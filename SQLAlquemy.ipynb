{
 "cells": [
  {
   "cell_type": "markdown",
   "metadata": {},
   "source": [
    "## Functions"
   ]
  },
  {
   "cell_type": "code",
   "execution_count": 2,
   "metadata": {},
   "outputs": [],
   "source": [
    "import os\n",
    "from pathlib import Path\n",
    "\n",
    "from dotenv import load_dotenv, find_dotenv\n",
    "from sqlalchemy import create_engine\n",
    "from sqlalchemy.orm import sessionmaker\n",
    "from sqlalchemy_utils import database_exists, create_database\n",
    "import pandas as pd"
   ]
  },
  {
   "cell_type": "code",
   "execution_count": 3,
   "metadata": {},
   "outputs": [],
   "source": [
    "def get_credentials():\n",
    "    path = Path.cwd() / 'config' / '.ENV'\n",
    "    load_dotenv(path)\n",
    "    user = os.getenv('POSTGRESUSER')\n",
    "    password = os.getenv('PASSWORD')\n",
    "    host = os.getenv('HOST')\n",
    "    port = os.getenv('PORT')\n",
    "    dbname = os.getenv('DBNAME')\n",
    "    credentials = {\n",
    "        'user':user,\n",
    "        'password':password,\n",
    "        'host':host,\n",
    "        'port':port,\n",
    "        'dbname':dbname,\n",
    "    }\n",
    "    return credentials\n",
    "\n",
    "\n",
    "def get_engine(user, password, host, port, dbname):\n",
    "    url = f'postgresql+psycopg2://{user}:{password}@{host}:{port}/{dbname}'\n",
    "    if not database_exists(url):\n",
    "        create_database(url)\n",
    "    engine = create_engine(url, pool_size=50, echo=False)\n",
    "    return engine\n",
    "\n",
    "def get_postgres_engine():\n",
    "    keys = get_credentials()\n",
    "    engine = get_engine(keys['user'],keys['password'], keys['host'],keys['port'],keys['dbname'])\n",
    "    return engine"
   ]
  },
  {
   "cell_type": "code",
   "execution_count": 4,
   "metadata": {},
   "outputs": [],
   "source": [
    "from sqlalchemy import Column, Integer, MetaData, String, Table, create_engine\n",
    "from sqlalchemy.orm import sessionmaker, declarative_base\n",
    "\n",
    "from sqlalchemy.orm import sessionmaker"
   ]
  },
  {
   "cell_type": "code",
   "execution_count": 5,
   "metadata": {},
   "outputs": [],
   "source": [
    "# Declaração de uma tabela\n",
    "engine = get_postgres_engine()\n",
    "Base = declarative_base()\n",
    "\n",
    "class User(Base):\n",
    "    __tablename__ = 'Users'\n",
    "\n",
    "    id = Column(Integer, primary_key=True)\n",
    "    name = Column(String)\n",
    "    age = Column(Integer)\n",
    "\n",
    "Base.metadata.create_all(engine)"
   ]
  },
  {
   "cell_type": "markdown",
   "metadata": {},
   "source": [
    "## Rollback"
   ]
  },
  {
   "cell_type": "code",
   "execution_count": 22,
   "metadata": {},
   "outputs": [],
   "source": [
    "session.rollback() # type: ignore"
   ]
  },
  {
   "cell_type": "markdown",
   "metadata": {},
   "source": [
    "# **CRUD**"
   ]
  },
  {
   "cell_type": "markdown",
   "metadata": {},
   "source": [
    "## Create"
   ]
  },
  {
   "cell_type": "code",
   "execution_count": 13,
   "metadata": {},
   "outputs": [],
   "source": [
    "Session = sessionmaker(bind=engine)\n",
    "session = Session()"
   ]
  },
  {
   "cell_type": "code",
   "execution_count": 14,
   "metadata": {},
   "outputs": [],
   "source": [
    "user = User(name='Joel', age=20)\n",
    "user_2 = User(name='Rool', age=30)\n",
    "user_3 = User(name='Melo', age=40)\n",
    "user_4 = User(name='Junior', age=50)\n",
    "\n",
    "session.add(user)\n",
    "session.add_all([user_2, user_3, user_4])\n",
    "session.commit()"
   ]
  },
  {
   "cell_type": "markdown",
   "metadata": {},
   "source": [
    "## Read"
   ]
  },
  {
   "cell_type": "code",
   "execution_count": 15,
   "metadata": {},
   "outputs": [
    {
     "name": "stdout",
     "output_type": "stream",
     "text": [
      "133\n",
      "Melo\n",
      "58\n"
     ]
    }
   ],
   "source": [
    "from sqlalchemy.orm import sessionmaker\n",
    "\n",
    "Session = sessionmaker(engine)\n",
    "session = Session()\n",
    "\n",
    "users = session.query(User).all()\n",
    "user = users[0]\n",
    "\n",
    "print(user.id)\n",
    "print(user.name)\n",
    "print(user.age)"
   ]
  },
  {
   "cell_type": "code",
   "execution_count": 16,
   "metadata": {},
   "outputs": [
    {
     "name": "stdout",
     "output_type": "stream",
     "text": [
      "User id: 133, User name: Melo, User age: 58\n",
      "User id: 134, User name: Melo, User age: 26\n",
      "User id: 135, User name: Rool, User age: 25\n",
      "User id: 136, User name: Arthur, User age: 58\n",
      "User id: 137, User name: Arthur, User age: 72\n",
      "User id: 138, User name: Melo, User age: 25\n",
      "User id: 139, User name: Ramos, User age: 26\n",
      "User id: 140, User name: Melo, User age: 69\n",
      "User id: 141, User name: Melo, User age: 46\n",
      "User id: 142, User name: Rool, User age: 69\n",
      "User id: 143, User name: Anna, User age: 36\n",
      "User id: 144, User name: Rool, User age: 26\n",
      "User id: 145, User name: Ramos, User age: 25\n",
      "User id: 146, User name: Ramos, User age: 72\n",
      "User id: 147, User name: Arthur, User age: 36\n",
      "User id: 148, User name: Arthur, User age: 67\n",
      "User id: 149, User name: Anna, User age: 58\n",
      "User id: 150, User name: Rool, User age: 26\n",
      "User id: 151, User name: Victoria, User age: 58\n",
      "User id: 152, User name: Arthur, User age: 72\n",
      "User id: 153, User name: Joel, User age: 20\n",
      "User id: 154, User name: Rool, User age: 30\n",
      "User id: 155, User name: Melo, User age: 40\n",
      "User id: 156, User name: Junior, User age: 50\n"
     ]
    }
   ],
   "source": [
    "users = session.query(User).all()\n",
    "for user in users:\n",
    "    print(f'User id: {user.id}, User name: {user.name}, User age: {user.age}')"
   ]
  },
  {
   "cell_type": "code",
   "execution_count": 17,
   "metadata": {},
   "outputs": [
    {
     "ename": "AttributeError",
     "evalue": "'NoneType' object has no attribute 'id'",
     "output_type": "error",
     "traceback": [
      "\u001b[1;31m---------------------------------------------------------------------------\u001b[0m",
      "\u001b[1;31mAttributeError\u001b[0m                            Traceback (most recent call last)",
      "Cell \u001b[1;32mIn[17], line 2\u001b[0m\n\u001b[0;32m      1\u001b[0m user \u001b[38;5;241m=\u001b[39m session\u001b[38;5;241m.\u001b[39mquery(User)\u001b[38;5;241m.\u001b[39mfilter_by(\u001b[38;5;28mid\u001b[39m\u001b[38;5;241m=\u001b[39m\u001b[38;5;241m2\u001b[39m)\u001b[38;5;241m.\u001b[39mone_or_none()\n\u001b[1;32m----> 2\u001b[0m \u001b[38;5;28mprint\u001b[39m(\u001b[43muser\u001b[49m\u001b[38;5;241;43m.\u001b[39;49m\u001b[43mid\u001b[49m)\n\u001b[0;32m      3\u001b[0m \u001b[38;5;28mprint\u001b[39m(user\u001b[38;5;241m.\u001b[39mname)\n\u001b[0;32m      4\u001b[0m \u001b[38;5;28mprint\u001b[39m(user\u001b[38;5;241m.\u001b[39mage)\n",
      "\u001b[1;31mAttributeError\u001b[0m: 'NoneType' object has no attribute 'id'"
     ]
    }
   ],
   "source": [
    "user = session.query(User).filter_by(id=2).one_or_none()\n",
    "print(user.id)\n",
    "print(user.name)\n",
    "print(user.age)"
   ]
  },
  {
   "cell_type": "markdown",
   "metadata": {},
   "source": [
    "## Update"
   ]
  },
  {
   "cell_type": "code",
   "execution_count": 13,
   "metadata": {},
   "outputs": [
    {
     "name": "stdout",
     "output_type": "stream",
     "text": [
      "Rool\n",
      "Outro nome\n"
     ]
    }
   ],
   "source": [
    "from sqlalchemy.orm import sessionmaker\n",
    "\n",
    "Session = sessionmaker(engine)\n",
    "session = Session()\n",
    "\n",
    "user = session.query(User).filter_by(id=2).one_or_none()\n",
    "\n",
    "print(user.name)\n",
    "user.name = \"Outro nome\"\n",
    "print(user.name)\n",
    "\n",
    "session.commit()"
   ]
  },
  {
   "cell_type": "markdown",
   "metadata": {},
   "source": [
    "## Delete"
   ]
  },
  {
   "cell_type": "code",
   "execution_count": null,
   "metadata": {},
   "outputs": [],
   "source": [
    "from sqlalchemy.orm import sessionmaker\n",
    "\n",
    "Session = sessionmaker(engine)\n",
    "session = Session()\n",
    "\n",
    "user = session.query(User).filter_by(id=2).one_or_none()\n",
    "session.delete(user)\n",
    "session.commit()"
   ]
  },
  {
   "cell_type": "markdown",
   "metadata": {},
   "source": [
    "# **Ordenando os Dados**"
   ]
  },
  {
   "cell_type": "code",
   "execution_count": 6,
   "metadata": {},
   "outputs": [],
   "source": [
    "import random\n",
    "from sqlalchemy.orm import sessionmaker\n",
    "\n",
    "engine = get_postgres_engine()\n",
    "Session = sessionmaker(engine)\n",
    "session = Session()"
   ]
  },
  {
   "cell_type": "markdown",
   "metadata": {},
   "source": [
    "### Resetando os dados da tabela"
   ]
  },
  {
   "cell_type": "code",
   "execution_count": 7,
   "metadata": {},
   "outputs": [],
   "source": [
    "session.query(User).delete()\n",
    "session.commit()"
   ]
  },
  {
   "cell_type": "markdown",
   "metadata": {},
   "source": [
    "### Colocando dados falsos no banco  de dados"
   ]
  },
  {
   "cell_type": "code",
   "execution_count": 8,
   "metadata": {},
   "outputs": [],
   "source": [
    "names = ['Arthur','Rool','Ramos','Melo','Anna','Victoria']\n",
    "ages = [25,26,26,67,69,42,36,58,91,46,72]\n",
    "\n",
    "\n",
    "for x in range(20):\n",
    "    user = User(name=random.choice(names), age=random.choice(ages))\n",
    "    session.add(user)\n",
    "session.commit()"
   ]
  },
  {
   "cell_type": "markdown",
   "metadata": {},
   "source": [
    "### Por idade do maior para o menor (decrecente)"
   ]
  },
  {
   "cell_type": "code",
   "execution_count": 9,
   "metadata": {},
   "outputs": [
    {
     "name": "stdout",
     "output_type": "stream",
     "text": [
      "152 Arthur 72\n",
      "137 Arthur 72\n",
      "146 Ramos 72\n",
      "142 Rool 69\n",
      "140 Melo 69\n",
      "148 Arthur 67\n",
      "133 Melo 58\n",
      "136 Arthur 58\n",
      "149 Anna 58\n",
      "151 Victoria 58\n",
      "141 Melo 46\n",
      "147 Arthur 36\n",
      "143 Anna 36\n",
      "139 Ramos 26\n",
      "144 Rool 26\n",
      "134 Melo 26\n",
      "150 Rool 26\n",
      "145 Ramos 25\n",
      "135 Rool 25\n",
      "138 Melo 25\n"
     ]
    }
   ],
   "source": [
    "users = session.query(User).order_by(User.age.desc()).all()\n",
    "\n",
    "for user in users:\n",
    "    print(user.id, user.name, user.age)"
   ]
  },
  {
   "cell_type": "markdown",
   "metadata": {},
   "source": [
    "### Por nome do menor para o maior (crecente)"
   ]
  },
  {
   "cell_type": "code",
   "execution_count": 10,
   "metadata": {},
   "outputs": [
    {
     "name": "stdout",
     "output_type": "stream",
     "text": [
      "149 Anna 58\n",
      "143 Anna 36\n",
      "137 Arthur 72\n",
      "152 Arthur 72\n",
      "136 Arthur 58\n",
      "147 Arthur 36\n",
      "148 Arthur 67\n",
      "141 Melo 46\n",
      "140 Melo 69\n",
      "133 Melo 58\n",
      "138 Melo 25\n",
      "134 Melo 26\n",
      "139 Ramos 26\n",
      "145 Ramos 25\n",
      "146 Ramos 72\n",
      "144 Rool 26\n",
      "150 Rool 26\n",
      "135 Rool 25\n",
      "142 Rool 69\n",
      "151 Victoria 58\n"
     ]
    }
   ],
   "source": [
    "users = session.query(User).order_by(User.name.asc()).all()\n",
    "\n",
    "for user in users:\n",
    "    print(user.id, user.name, user.age)"
   ]
  },
  {
   "cell_type": "markdown",
   "metadata": {},
   "source": [
    "# **Filtrando os Dados**"
   ]
  },
  {
   "cell_type": "markdown",
   "metadata": {},
   "source": [
    "## *Iniciar sessão*"
   ]
  },
  {
   "cell_type": "code",
   "execution_count": 38,
   "metadata": {},
   "outputs": [],
   "source": [
    "from sqlalchemy.orm import sessionmaker\n",
    "\n",
    "engine = get_postgres_engine()\n",
    "Session = sessionmaker(engine)\n",
    "session = Session()"
   ]
  },
  {
   "cell_type": "markdown",
   "metadata": {},
   "source": [
    "## *filter()*"
   ]
  },
  {
   "cell_type": "code",
   "execution_count": 24,
   "metadata": {},
   "outputs": [
    {
     "name": "stdout",
     "output_type": "stream",
     "text": [
      "All users: 24\n",
      "users_filtered_age: 23\n",
      "users_filtered_age_name: 5\n"
     ]
    }
   ],
   "source": [
    "# query all users\n",
    "users_all = session.query(User).all()\n",
    "\n",
    "# query all users with age greater than or equal to 25\n",
    "users_filtered_age = session.query(User).filter(User.age >= 25).all()\n",
    "\n",
    "users_filtered_age_name = session.query(User).filter(User.age >= 25, User.name == 'Arthur').all()\n",
    "\n",
    "print(f'All users: {len(users_all)}')\n",
    "print(f'users_filtered_age: {len(users_filtered_age)}')\n",
    "print(f'users_filtered_age_name: {len(users_filtered_age_name)}')"
   ]
  },
  {
   "cell_type": "markdown",
   "metadata": {},
   "source": [
    "## *filter_by()*"
   ]
  },
  {
   "cell_type": "code",
   "execution_count": 30,
   "metadata": {},
   "outputs": [
    {
     "name": "stdout",
     "output_type": "stream",
     "text": [
      "user: Melo       age: 58\n",
      "user: Arthur       age: 58\n",
      "user: Anna       age: 58\n",
      "user: Victoria       age: 58\n"
     ]
    }
   ],
   "source": [
    "users = session.query(User).filter_by(age=58).all()\n",
    "\n",
    "for user in users:\n",
    "    print(f'user: {user.name}       age: {user.age}')\n",
    "\n",
    "\n",
    "# !Com o filter by não como colocar condições"
   ]
  },
  {
   "cell_type": "markdown",
   "metadata": {},
   "source": [
    "## *where()*"
   ]
  },
  {
   "cell_type": "code",
   "execution_count": 33,
   "metadata": {},
   "outputs": [
    {
     "name": "stdout",
     "output_type": "stream",
     "text": [
      "Arthur 58\n",
      "Arthur 72\n",
      "Arthur 36\n",
      "Arthur 67\n",
      "Arthur 72\n"
     ]
    }
   ],
   "source": [
    "users = session.query(User).where(User.age > 30, User.name == 'Arthur').all()\n",
    "for user in users:\n",
    "    print(user.name, user.age)"
   ]
  },
  {
   "cell_type": "markdown",
   "metadata": {},
   "source": [
    "## *or_(), and_(), not_()* "
   ]
  },
  {
   "cell_type": "code",
   "execution_count": 34,
   "metadata": {},
   "outputs": [
    {
     "name": "stdout",
     "output_type": "stream",
     "text": [
      "Melo 58\n",
      "Arthur 58\n",
      "Arthur 72\n",
      "Melo 69\n",
      "Melo 46\n",
      "Rool 69\n",
      "Anna 36\n",
      "Ramos 72\n",
      "Arthur 36\n",
      "Arthur 67\n",
      "Anna 58\n",
      "Victoria 58\n",
      "Arthur 72\n",
      "Melo 40\n",
      "Junior 50\n"
     ]
    }
   ],
   "source": [
    "# Com a função or_()\n",
    "from sqlalchemy import or_\n",
    "\n",
    "users = session.query(User).where(\n",
    "    or_(\n",
    "        User.age > 30, User.name == 'Arthur'\n",
    "    )\n",
    ").all()\n",
    "\n",
    "for user in users:\n",
    "    print(user.name, user.age)"
   ]
  },
  {
   "cell_type": "code",
   "execution_count": 35,
   "metadata": {},
   "outputs": [
    {
     "name": "stdout",
     "output_type": "stream",
     "text": [
      "Arthur 58\n",
      "Arthur 72\n",
      "Arthur 36\n",
      "Arthur 67\n",
      "Arthur 72\n"
     ]
    }
   ],
   "source": [
    "from sqlalchemy import and_\n",
    "\n",
    "users = session.query(User).where(\n",
    "    and_(\n",
    "        User.age > 30, User.name == 'Arthur'\n",
    "    )\n",
    ").all()\n",
    "\n",
    "for user in users:\n",
    "    print(user.name, user.age)"
   ]
  },
  {
   "cell_type": "code",
   "execution_count": 37,
   "metadata": {},
   "outputs": [
    {
     "name": "stdout",
     "output_type": "stream",
     "text": [
      "Melo 58\n",
      "Melo 26\n",
      "Rool 25\n",
      "Melo 25\n",
      "Ramos 26\n",
      "Melo 69\n",
      "Melo 46\n",
      "Rool 69\n",
      "Anna 36\n",
      "Rool 26\n",
      "Ramos 25\n",
      "Ramos 72\n",
      "Anna 58\n",
      "Rool 26\n",
      "Victoria 58\n",
      "Joel 20\n",
      "Rool 30\n",
      "Melo 40\n",
      "Junior 50\n"
     ]
    }
   ],
   "source": [
    "from sqlalchemy import not_\n",
    "\n",
    "users = session.query(User).where(\n",
    "    not_(\n",
    "        User.name == 'Arthur'\n",
    "    )\n",
    ").all()\n",
    "\n",
    "for user in users:\n",
    "    print(user.name, user.age)"
   ]
  },
  {
   "cell_type": "markdown",
   "metadata": {},
   "source": [
    "## *Combinando todas elas*"
   ]
  },
  {
   "cell_type": "code",
   "execution_count": 41,
   "metadata": {},
   "outputs": [
    {
     "name": "stdout",
     "output_type": "stream",
     "text": [
      "Melo 58\n",
      "Melo 26\n",
      "Rool 25\n",
      "Arthur 58\n",
      "Melo 25\n",
      "Ramos 26\n",
      "Melo 69\n",
      "Melo 46\n",
      "Rool 69\n",
      "Anna 36\n",
      "Rool 26\n",
      "Ramos 25\n",
      "Ramos 72\n",
      "Arthur 36\n",
      "Anna 58\n",
      "Rool 26\n",
      "Victoria 58\n",
      "Joel 20\n",
      "Rool 30\n",
      "Melo 40\n",
      "Junior 50\n",
      "\n",
      "numero de usuarios que atendem a essas condições : 21\n"
     ]
    }
   ],
   "source": [
    "users = session.query(User).where(\n",
    "    or_(\n",
    "        not_(User.name == 'Arthur'),\n",
    "        and_(\n",
    "            User.age > 35,\n",
    "            User.age < 60\n",
    "        )\n",
    "    )\n",
    ").all()\n",
    "\n",
    "for user in users:\n",
    "    print(user.name, user.age)\n",
    "\n",
    "print()\n",
    "print(f'numero de usuarios que atendem a essas condições : {len(users)}')"
   ]
  },
  {
   "cell_type": "markdown",
   "metadata": {},
   "source": [
    "# **Agrupamento e Encadeamento**"
   ]
  },
  {
   "cell_type": "markdown",
   "metadata": {},
   "source": [
    "## *Iniciar Sessão*"
   ]
  },
  {
   "cell_type": "code",
   "execution_count": 5,
   "metadata": {},
   "outputs": [],
   "source": [
    "from sqlalchemy.orm import sessionmaker\n",
    "\n",
    "engine = get_postgres_engine()\n",
    "Session = sessionmaker(engine)\n",
    "session = Session()"
   ]
  },
  {
   "cell_type": "markdown",
   "metadata": {},
   "source": [
    "## *Agrupamento*"
   ]
  },
  {
   "cell_type": "markdown",
   "metadata": {},
   "source": [
    "### Agrupamento simples"
   ]
  },
  {
   "cell_type": "code",
   "execution_count": 7,
   "metadata": {},
   "outputs": [
    {
     "name": "stdout",
     "output_type": "stream",
     "text": [
      "SELECT \"Users\".age AS \"Users_age\" \n",
      "FROM \"Users\" GROUP BY \"Users\".age\n",
      "[(36,), (69,), (25,), (30,), (50,), (40,), (46,), (26,), (72,), (20,), (67,), (58,)]\n"
     ]
    }
   ],
   "source": [
    "query =  session.query(User.age).group_by(User.age)\n",
    "users = query.all()\n",
    "\n",
    "print(query)\n",
    "print(users)"
   ]
  },
  {
   "cell_type": "markdown",
   "metadata": {},
   "source": [
    "### Agrupamento com a função *func*"
   ]
  },
  {
   "cell_type": "code",
   "execution_count": 8,
   "metadata": {},
   "outputs": [
    {
     "name": "stdout",
     "output_type": "stream",
     "text": [
      "SELECT \"Users\".age AS \"Users_age\", count(\"Users\".id) AS count_1 \n",
      "FROM \"Users\" GROUP BY \"Users\".age\n",
      "[(36, 2), (69, 2), (25, 3), (30, 1), (50, 1), (40, 1), (46, 1), (26, 4), (72, 3), (20, 1), (67, 1), (58, 4)]\n",
      "SELECT \"Users\".name AS \"Users_name\", count(\"Users\".id) AS count_1 \n",
      "FROM \"Users\" GROUP BY \"Users\".name\n",
      "[('Victoria', 1), ('Ramos', 3), ('Joel', 1), ('Junior', 1), ('Anna', 2), ('Arthur', 5), ('Melo', 6), ('Rool', 5)]\n"
     ]
    }
   ],
   "source": [
    "from sqlalchemy import func\n",
    "\n",
    "# Por idade\n",
    "query = session.query(User.age, func.count(User.id)).group_by(User.age)\n",
    "users_age = query.all()\n",
    "\n",
    "print(query)\n",
    "print(users_age)\n",
    "# Por nome\n",
    "query = session.query(User.name, func.count(User.id)).group_by(User.name)\n",
    "users_name = query.all()\n",
    "\n",
    "print(query)\n",
    "print(users_name)"
   ]
  },
  {
   "cell_type": "markdown",
   "metadata": {},
   "source": [
    "## Encadeamento (Chaining)"
   ]
  },
  {
   "cell_type": "code",
   "execution_count": 42,
   "metadata": {},
   "outputs": [
    {
     "name": "stdout",
     "output_type": "stream",
     "text": [
      "Age: 25 - 3 users\n",
      "Age: 26 - 4 users\n",
      "Age: 30 - 1 users\n",
      "Age: 36 - 2 users\n",
      "Age: 40 - 1 users\n",
      "Age: 46 - 1 users\n"
     ]
    }
   ],
   "source": [
    "from sqlalchemy import func\n",
    "\n",
    "users_tuple = (\n",
    "    session.query(User.age, func.count(User.id))\n",
    "    .filter(User.age > 24)\n",
    "    .order_by(User.age)\n",
    "    .filter(User.age < 50)\n",
    "    .group_by(User.age)\n",
    "    .all()\n",
    ")\n",
    "\n",
    "for age, count in users_tuple:\n",
    "    print(f'Age: {age} - {count} users')"
   ]
  },
  {
   "cell_type": "code",
   "execution_count": 19,
   "metadata": {},
   "outputs": [
    {
     "name": "stdout",
     "output_type": "stream",
     "text": [
      "Users age: 72, name: Arthur\n",
      "Users age: 67, name: Arthur\n",
      "Users age: 72, name: Arthur\n",
      "Users age: 36, name: Arthur\n",
      "Users age: 58, name: Arthur\n"
     ]
    }
   ],
   "source": [
    "only_arthur = True\n",
    "group_by_age = True\n",
    "\n",
    "users = session.query(User)\n",
    "\n",
    "if only_arthur:\n",
    "    users = users.filter(User.name == 'Arthur')\n",
    "\n",
    "if group_by_age:\n",
    "    users = users.group_by(User.age, User.id)\n",
    "\n",
    "users = users.all()\n",
    "\n",
    "for user in users:\n",
    "    print(f'Users age: {user.age}, name: {user.name}') "
   ]
  },
  {
   "cell_type": "markdown",
   "metadata": {},
   "source": [
    "# **Relações**"
   ]
  },
  {
   "cell_type": "markdown",
   "metadata": {},
   "source": [
    "## Iniciar Sessão"
   ]
  },
  {
   "cell_type": "code",
   "execution_count": 26,
   "metadata": {},
   "outputs": [],
   "source": [
    "from sqlalchemy import (Column, ForeignKey, Integer, String)\n",
    "from sqlalchemy.orm import declarative_base, relationship, sessionmaker\n",
    "\n",
    "engine = get_postgres_engine()\n",
    "Session = sessionmaker(engine)\n",
    "session = Session()"
   ]
  },
  {
   "cell_type": "markdown",
   "metadata": {},
   "source": [
    "## **Um para muitos (1 <-> n)**"
   ]
  },
  {
   "cell_type": "code",
   "execution_count": 27,
   "metadata": {},
   "outputs": [],
   "source": [
    "Base = declarative_base()\n",
    "\n",
    "class BaseModel(Base):\n",
    "    __abstract__ = True\n",
    "    __allow_unmapped__ = True\n",
    "\n",
    "    id = Column(Integer,primary_key=True)\n",
    "\n",
    "class Address(BaseModel):\n",
    "    __tablename__ = 'addresses'\n",
    "\n",
    "    city = Column(String)\n",
    "    state = Column(String)\n",
    "    zip_code = Column(Integer)\n",
    "    user_id = Column(ForeignKey('users.id'))\n",
    "\n",
    "    def __repr__(self):\n",
    "        return f'<Addresses(id={self.id}, city=\"{self.city}\")>'\n",
    "\n",
    "class User(BaseModel):\n",
    "    __tablename__ = 'users'\n",
    "\n",
    "    name = Column(String)\n",
    "    age = Column(Integer)\n",
    "    addresses = relationship(Address)\n",
    "\n",
    "    def __repr__(self):\n",
    "        return f'<Addresses(id={self.id}, city=\"{self.name}\")>'\n",
    "\n",
    "Base.metadata.create_all(engine)"
   ]
  },
  {
   "cell_type": "code",
   "execution_count": 29,
   "metadata": {},
   "outputs": [
    {
     "name": "stdout",
     "output_type": "stream",
     "text": [
      "User1.addresses = [<Addresses(id=4, city=\"New York\")>, <Addresses(id=5, city=\"Los Andeles\")>]\n",
      "User2.addresses = [<Addresses(id=6, city=\"Chicago\")>]\n"
     ]
    }
   ],
   "source": [
    "# Criando Usuários\n",
    "User1 = User(name='Joel Rool', age=23)\n",
    "User2 = User(name='Arthur Ramos', age=15)\n",
    "\n",
    "# Criando Endereços\n",
    "address1 = Address(city='New York', state='NY', zip_code='10001')\n",
    "address2 = Address(city='Los Andeles', state='CA', zip_code='90001')\n",
    "address3 = Address(city='Chicago', state='IL', zip_code='60601')\n",
    "\n",
    "# Associando endereços com usuarios\n",
    "User1.addresses.extend([address1, address2])\n",
    "User2.addresses.append(address3)\n",
    "\n",
    "session.add(User1)\n",
    "session.add(User2)\n",
    "session.commit()\n",
    "\n",
    "print(f'{User1.addresses = }')\n",
    "print(f'{User2.addresses = }')\n"
   ]
  }
 ],
 "metadata": {
  "kernelspec": {
   "display_name": ".venv",
   "language": "python",
   "name": "python3"
  },
  "language_info": {
   "codemirror_mode": {
    "name": "ipython",
    "version": 3
   },
   "file_extension": ".py",
   "mimetype": "text/x-python",
   "name": "python",
   "nbconvert_exporter": "python",
   "pygments_lexer": "ipython3",
   "version": "3.11.9"
  }
 },
 "nbformat": 4,
 "nbformat_minor": 2
}
